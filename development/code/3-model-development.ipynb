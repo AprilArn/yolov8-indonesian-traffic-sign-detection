{
  "cells": [
    {
      "cell_type": "markdown",
      "metadata": {
        "id": "Y6mMTmGAl-6o"
      },
      "source": [
        "# Indonesian Traffic Sign Detection - YOLOv8\n",
        "\n",
        "Creating a custom YOLOv8 model for Indonesian traffic sign detection using the Ultralytics YOLOv8 library.\n",
        "\n",
        "[link to my dataset]()"
      ]
    },
    {
      "cell_type": "code",
      "execution_count": null,
      "metadata": {
        "id": "obEcIBy9qQ6h"
      },
      "outputs": [],
      "source": [
        "from google.colab import drive\n",
        "drive.mount( '/content/drive' )"
      ]
    },
    {
      "cell_type": "code",
      "execution_count": null,
      "metadata": {
        "id": "s7hDB2z94yqQ"
      },
      "outputs": [],
      "source": [
        "# import datetime\n",
        "\n",
        "# # 1. Mount Google Drive\n",
        "# drive.mount('/content/drive')\n",
        "\n",
        "# # 2. Tentukan path yang akan dicek\n",
        "# folder_path = \"/content/drive/MyDrive\"\n",
        "\n",
        "# # 3. Tipe file gambar yang akan dihapus\n",
        "# image_extensions = ('.jpg', '.jpeg', '.png', '.bmp', '.gif', '.webp')\n",
        "\n",
        "# # 4. Dapatkan tanggal hari ini\n",
        "# today = datetime.date.today()\n",
        "\n",
        "# # 5. Loop dan hapus file yang cocok\n",
        "# deleted_files = []\n",
        "\n",
        "# for root, dirs, files in os.walk(folder_path):\n",
        "#     for file in files:\n",
        "#         if file.lower().endswith(image_extensions):\n",
        "#             file_path = os.path.join(root, file)\n",
        "#             mod_time = datetime.date.fromtimestamp(os.path.getmtime(file_path))\n",
        "#             if mod_time == today:\n",
        "#                 os.remove(file_path)\n",
        "#                 deleted_files.append(file_path)\n",
        "\n",
        "# # 6. Tampilkan hasil\n",
        "# print(f\"Total gambar yang dihapus hari ini: {len(deleted_files)}\")\n",
        "# for f in deleted_files:\n",
        "#     print(f\"- {f}\")\n"
      ]
    },
    {
      "cell_type": "code",
      "execution_count": null,
      "metadata": {
        "id": "2S6I1i-kqhu5"
      },
      "outputs": [],
      "source": [
        "# Install YOLO package from ultralytics\n",
        "!pip install ultralytics"
      ]
    },
    {
      "cell_type": "code",
      "execution_count": null,
      "metadata": {
        "id": "5DBqMQ79qioi"
      },
      "outputs": [],
      "source": [
        "import os\n",
        "import zipfile\n",
        "import cv2\n",
        "import random\n",
        "import glob\n",
        "import pandas as pd\n",
        "import matplotlib.pyplot as plt\n",
        "import matplotlib.patches as patches\n",
        "import shutil\n",
        "\n",
        "from google.colab.patches import cv2_imshow\n",
        "from ultralytics import YOLO"
      ]
    },
    {
      "cell_type": "code",
      "execution_count": null,
      "metadata": {
        "id": "Y8AhnXF2q4Go"
      },
      "outputs": [],
      "source": [
        "# # Path to the ZIP file in Google Drive\n",
        "# zip_path = \"/content/drive/MyDrive/indonesian-traffic-sign-dataset-augmented.zip\"\n",
        "\n",
        "# # Path to the destination folder\n",
        "# extract_path = \"/content/drive/MyDrive/Datasets/\"\n",
        "\n",
        "# # Check if the ZIP file exists\n",
        "# if os.path.exists(zip_path):\n",
        "#     # Ensure the destination folder exists\n",
        "#     os.makedirs(extract_path, exist_ok=True)\n",
        "\n",
        "#     # Extract the ZIP file\n",
        "#     with zipfile.ZipFile(zip_path, 'r') as zip_ref:\n",
        "#         zip_ref.extractall(extract_path)\n",
        "\n",
        "#     print(f\"✅ Extraction complete! Files are saved in: {extract_path}\")\n",
        "# else:\n",
        "#     print(f\"⚠️ ZIP file not found at: {zip_path}. Skipping extraction.\")"
      ]
    },
    {
      "cell_type": "code",
      "execution_count": null,
      "metadata": {
        "id": "KYF6GD1QO7pk"
      },
      "outputs": [],
      "source": [
        "# Dataset path\n",
        "dataset_path = r'/content/drive/MyDrive/Datasets/indonesian-traffic-sign-dataset-augmented'\n",
        "\n",
        "# Images and Labels path\n",
        "IMAGES_PATH = os.path.join( dataset_path, 'images' )\n",
        "LABELS_PATH = os.path.join( dataset_path, 'labels' )\n",
        "if not os.path.exists( IMAGES_PATH ):\n",
        "    print( 'Images path not found' )\n",
        "if not os.path.exists( LABELS_PATH ):\n",
        "    print( 'Labels path not found' )\n",
        "\n",
        "# Train, Valid, Test path\n",
        "TRAIN_IMAGES_PATH = os.path.join( IMAGES_PATH, 'train' )\n",
        "TRAIN_LABELS_PATH = os.path.join( LABELS_PATH, 'train' )\n",
        "VALID_IMAGES_PATH = os.path.join( IMAGES_PATH, 'valid' )\n",
        "VALID_LABELS_PATH = os.path.join( LABELS_PATH, 'valid' )\n",
        "TEST_IMAGES_PATH = os.path.join( IMAGES_PATH, 'test' )\n",
        "TEST_LABELS_PATH = os.path.join( LABELS_PATH, 'test' )\n",
        "if not os.path.exists( TRAIN_IMAGES_PATH ):\n",
        "    print( 'Train images path not found' )\n",
        "if not os.path.exists( TRAIN_LABELS_PATH ):\n",
        "    print( 'Train labels path not found' )\n",
        "if not os.path.exists( VALID_IMAGES_PATH ):\n",
        "    print( 'Valid images path not found' )\n",
        "if not os.path.exists( VALID_LABELS_PATH ):\n",
        "    print( 'Valid labels path not found' )\n",
        "if not os.path.exists( TEST_IMAGES_PATH ):\n",
        "    print( 'Test images path not found' )\n",
        "if not os.path.exists( TEST_LABELS_PATH ):\n",
        "    print( 'Test labels path not found' )"
      ]
    },
    {
      "cell_type": "code",
      "execution_count": null,
      "metadata": {
        "id": "VkwXBGsMQHah"
      },
      "outputs": [],
      "source": [
        "# Check the number of images and labels in the dataset\n",
        "train_images = len( os.listdir( TRAIN_IMAGES_PATH ) )\n",
        "train_labels = len( os.listdir( TRAIN_LABELS_PATH ) )\n",
        "valid_images = len( os.listdir( VALID_IMAGES_PATH ) )\n",
        "valid_labels = len( os.listdir( VALID_LABELS_PATH ) )\n",
        "test_images = len( os.listdir( TEST_IMAGES_PATH ) )\n",
        "test_labels = len( os.listdir( TEST_LABELS_PATH ) )\n",
        "\n",
        "if train_images != train_labels and valid_images != valid_labels and test_images != test_labels:\n",
        "    raise ValueError(\n",
        "\n",
        "        f\"The number of images and labels in the original dataset do not match.\",\n",
        "        f\"\\nTrain Images: { train_images } \\nTrain Labels: { train_labels }\",\n",
        "        f\"\\nValid Images: { valid_images } \\nValid Labels: { valid_labels }\",\n",
        "        f\"\\nTest Images: { test_images } \\nTest Labels: { test_labels }\"\n",
        "\n",
        "    )\n",
        "\n",
        "print(\n",
        "\n",
        "    f\"Train images: { train_images }\",\n",
        "    f\"\\nTrain labels: { train_labels }\",\n",
        "    f\"\\n\\nValid images: { valid_images }\",\n",
        "    f\"\\nValid labels: { valid_labels }\",\n",
        "    f\"\\n\\nTest images: { test_images }\",\n",
        "    f\"\\nTest labels: { test_labels }\"\n",
        "\n",
        ")"
      ]
    },
    {
      "cell_type": "code",
      "execution_count": null,
      "metadata": {
        "id": "wr409unjj4Ck"
      },
      "outputs": [],
      "source": [
        "# Training\n",
        "!yolo task         = detect                                                                                 \\\n",
        "      mode         = train                                                                                  \\\n",
        "      model        = yolov8n.yaml                                                                           \\\n",
        "      data         = /content/drive/MyDrive/Datasets/indonesian-traffic-sign-dataset-augmented/config.yaml  \\\n",
        "      epochs       = 100                                                                                    \\\n",
        "      imgsz        = 640                                                                                    \\\n",
        "      scale        = 0.8                                                                                    \\\n",
        "      batch        = 16                                                                                     \\\n",
        "      flipud       = 0                                                                                      \\\n",
        "      fliplr       = 0                                                                                      \\\n",
        "      mosaic       = 0                                                                                      \\\n",
        "      close_mosaic = 20                                                                                     \\\n",
        "      dropout      = 0.1"
      ]
    },
    {
      "cell_type": "code",
      "execution_count": null,
      "metadata": {
        "id": "X43UAXJGpK-o"
      },
      "outputs": [],
      "source": [
        "!scp -r /content/runs '/content/drive/MyDrive/Datasets/indonesian-traffic-sign-dataset-augmented/runs'"
      ]
    },
    {
      "cell_type": "code",
      "execution_count": null,
      "metadata": {
        "id": "SQk1frLPsSGi"
      },
      "outputs": [],
      "source": [
        "# Evaluating\n",
        "!yolo val model = /content/runs/detect/train/weights/best.pt                                             \\\n",
        "          data  = /content/drive/MyDrive/Datasets/indonesian-traffic-sign-dataset-augmented/config.yaml  \\\n",
        "          split = test"
      ]
    },
    {
      "cell_type": "code",
      "execution_count": null,
      "metadata": {
        "id": "QT5Opn9asko3"
      },
      "outputs": [],
      "source": [
        "!scp -r /content/runs '/content/drive/MyDrive/Datasets/indonesian-traffic-sign-dataset-augmented/runs'"
      ]
    },
    {
      "cell_type": "code",
      "execution_count": null,
      "metadata": {
        "id": "lF79ryntzRTa"
      },
      "outputs": [],
      "source": [
        "# Testing\n",
        "!yolo predict model = '/content/runs/detect/train/weights/best.pt'                              \\\n",
        "      source        = '/content/drive/MyDrive/Datasets/Predict Datasets/dilarang berhenti.jpg'  \\\n",
        "      conf          = 0.5"
      ]
    },
    {
      "cell_type": "code",
      "execution_count": null,
      "metadata": {
        "id": "U0hhcxFBo_hi"
      },
      "outputs": [],
      "source": [
        "!scp -r /content/runs '/content/drive/MyDrive/Datasets/indonesian-traffic-sign-dataset-augmented/runs'"
      ]
    },
    {
      "cell_type": "code",
      "execution_count": null,
      "metadata": {
        "id": "1flrPriIzLU7"
      },
      "outputs": [],
      "source": [
        "# Path to the processed image\n",
        "image_path = \"/content/runs/detect/predict/dilarang berhenti.jpg\"\n",
        "\n",
        "# Show the processed image\n",
        "img = cv2.imread(image_path)\n",
        "if img is not None:\n",
        "    cv2_imshow(img)"
      ]
    },
    {
      "cell_type": "code",
      "execution_count": null,
      "metadata": {
        "id": "oSB_JgbF8Khq"
      },
      "outputs": [],
      "source": [
        "# Testing\n",
        "!yolo predict model = '/content/runs/detect/train/weights/best.pt'                                    \\\n",
        "      source        = '/content/drive/MyDrive/Datasets/Predict Datasets/original_test_full_road.mp4'  \\\n",
        "      conf          = 0.5"
      ]
    },
    {
      "cell_type": "code",
      "execution_count": null,
      "metadata": {
        "id": "2hO8kzKf8S4y"
      },
      "outputs": [],
      "source": [
        "!scp -r /content/runs '/content/drive/MyDrive/Datasets/indonesian-traffic-sign-dataset-augmented/runs'"
      ]
    }
  ],
  "metadata": {
    "accelerator": "GPU",
    "colab": {
      "gpuType": "L4",
      "machine_shape": "hm",
      "provenance": []
    },
    "kernelspec": {
      "display_name": "Python 3",
      "name": "python3"
    },
    "language_info": {
      "name": "python"
    }
  },
  "nbformat": 4,
  "nbformat_minor": 0
}
